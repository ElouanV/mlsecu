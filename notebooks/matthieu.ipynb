{
 "cells": [
  {
   "cell_type": "code",
   "execution_count": 38,
   "metadata": {},
   "outputs": [],
   "source": [
    "import pandas as pd\n",
    "import sys\n",
    "sys.path.append(\"../\")\n",
    "from src import data_exploration_utils, data_preparation_utils, anomaly_detection_use_case"
   ]
  },
  {
   "cell_type": "code",
   "execution_count": 26,
   "metadata": {},
   "outputs": [],
   "source": [
    "df = pd.read_excel(\"../data/SWaT.A3_dataset_Jul 19_labelled.xlsx\", skiprows=1).iloc[1:]"
   ]
  },
  {
   "cell_type": "code",
   "execution_count": 40,
   "metadata": {},
   "outputs": [
    {
     "data": {
      "text/plain": [
       "GMT +0          object\n",
       "Attack          object\n",
       "Label          float64\n",
       "FIT 101         object\n",
       "LIT 101         object\n",
       "                ...   \n",
       "LSL 603         object\n",
       "P6 STATE        object\n",
       "P601 Status     object\n",
       "P602 Status     object\n",
       "P603 Status     object\n",
       "Length: 80, dtype: object"
      ]
     },
     "execution_count": 40,
     "metadata": {},
     "output_type": "execute_result"
    }
   ],
   "source": [
    "def extract_dict_df(dataframe, column_name) -> pd.DataFrame:\n",
    "    \"\"\"Extracts the dict from a column to columns of single values.\"\"\"\n",
    "    for k, v in dataframe.items():\n",
    "        dataframe[column_name + k] = v\n",
    "    return dataframe\n",
    "df.dtypes"
   ]
  }
 ],
 "metadata": {
  "kernelspec": {
   "display_name": ".venv",
   "language": "python",
   "name": "python3"
  },
  "language_info": {
   "codemirror_mode": {
    "name": "ipython",
    "version": 3
   },
   "file_extension": ".py",
   "mimetype": "text/x-python",
   "name": "python",
   "nbconvert_exporter": "python",
   "pygments_lexer": "ipython3",
   "version": "3.8.12"
  }
 },
 "nbformat": 4,
 "nbformat_minor": 2
}
