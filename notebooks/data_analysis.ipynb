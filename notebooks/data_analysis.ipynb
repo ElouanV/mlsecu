{
 "cells": [
  {
   "cell_type": "code",
   "execution_count": 19,
   "id": "initial_id",
   "metadata": {
    "collapsed": true,
    "ExecuteTime": {
     "end_time": "2023-11-16T10:30:29.852730793Z",
     "start_time": "2023-11-16T10:30:29.844665934Z"
    }
   },
   "outputs": [],
   "source": [
    "import pandas as pd"
   ]
  },
  {
   "cell_type": "code",
   "execution_count": 24,
   "outputs": [],
   "source": [
    "df = pd.read_excel('../data/SWaT.A3_dataset_Jul19_labelled.xlsx', header=1)"
   ],
   "metadata": {
    "collapsed": false,
    "ExecuteTime": {
     "end_time": "2023-11-16T10:32:14.973619066Z",
     "start_time": "2023-11-16T10:32:08.455636751Z"
    }
   },
   "id": "abb80e40e61f0681"
  },
  {
   "cell_type": "code",
   "execution_count": 25,
   "outputs": [
    {
     "data": {
      "text/plain": "                        GMT +0  Attack  Label FIT 101   LIT 101 MV 101  \\\n0                    timestamp     NaN    NaN   value     value  value   \n1         2019-07-20T04:30:00Z  benign    0.0       0  729.8658      1   \n2         2019-07-20T04:30:01Z  benign    0.0       0   729.434      1   \n3  2019-07-20T04:30:02.004013Z  benign    0.0       0    729.12      1   \n4  2019-07-20T04:30:03.004013Z  benign    0.0       0  728.6882      1   \n\n  P1_STATE P101 Status P102 Status     AIT 201  ...  \\\n0    value       value       value       value  ...   \n1        3           2           1  142.527557  ...   \n2        3           2           1  142.527557  ...   \n3        3           2           1  142.527557  ...   \n4        3           2           1  142.527557  ...   \n\n                                             LSH 601  \\\n0                                              value   \n1  {u'IsSystem': False, u'Name': u'Active', u'Val...   \n2  {u'IsSystem': False, u'Name': u'Active', u'Val...   \n3  {u'IsSystem': False, u'Name': u'Active', u'Val...   \n4  {u'IsSystem': False, u'Name': u'Active', u'Val...   \n\n                                             LSH 602  \\\n0                                              value   \n1  {u'IsSystem': False, u'Name': u'Active', u'Val...   \n2  {u'IsSystem': False, u'Name': u'Active', u'Val...   \n3  {u'IsSystem': False, u'Name': u'Active', u'Val...   \n4  {u'IsSystem': False, u'Name': u'Active', u'Val...   \n\n                                             LSH 603  \\\n0                                              value   \n1  {u'IsSystem': False, u'Name': u'Inactive', u'V...   \n2  {u'IsSystem': False, u'Name': u'Inactive', u'V...   \n3  {u'IsSystem': False, u'Name': u'Inactive', u'V...   \n4  {u'IsSystem': False, u'Name': u'Inactive', u'V...   \n\n                                             LSL 601  \\\n0                                              value   \n1  {u'IsSystem': False, u'Name': u'Inactive', u'V...   \n2  {u'IsSystem': False, u'Name': u'Inactive', u'V...   \n3  {u'IsSystem': False, u'Name': u'Inactive', u'V...   \n4  {u'IsSystem': False, u'Name': u'Inactive', u'V...   \n\n                                             LSL 602  \\\n0                                              value   \n1  {u'IsSystem': False, u'Name': u'Inactive', u'V...   \n2  {u'IsSystem': False, u'Name': u'Inactive', u'V...   \n3  {u'IsSystem': False, u'Name': u'Inactive', u'V...   \n4  {u'IsSystem': False, u'Name': u'Inactive', u'V...   \n\n                                             LSL 603 P6 STATE P601 Status  \\\n0                                              value    value       value   \n1  {u'IsSystem': False, u'Name': u'Active', u'Val...        2           1   \n2  {u'IsSystem': False, u'Name': u'Active', u'Val...        2           1   \n3  {u'IsSystem': False, u'Name': u'Active', u'Val...        2           1   \n4  {u'IsSystem': False, u'Name': u'Active', u'Val...        2           1   \n\n  P602 Status P603 Status  \n0       value       value  \n1           1           1  \n2           1           1  \n3           1           1  \n4           1           1  \n\n[5 rows x 80 columns]",
      "text/html": "<div>\n<style scoped>\n    .dataframe tbody tr th:only-of-type {\n        vertical-align: middle;\n    }\n\n    .dataframe tbody tr th {\n        vertical-align: top;\n    }\n\n    .dataframe thead th {\n        text-align: right;\n    }\n</style>\n<table border=\"1\" class=\"dataframe\">\n  <thead>\n    <tr style=\"text-align: right;\">\n      <th></th>\n      <th>GMT +0</th>\n      <th>Attack</th>\n      <th>Label</th>\n      <th>FIT 101</th>\n      <th>LIT 101</th>\n      <th>MV 101</th>\n      <th>P1_STATE</th>\n      <th>P101 Status</th>\n      <th>P102 Status</th>\n      <th>AIT 201</th>\n      <th>...</th>\n      <th>LSH 601</th>\n      <th>LSH 602</th>\n      <th>LSH 603</th>\n      <th>LSL 601</th>\n      <th>LSL 602</th>\n      <th>LSL 603</th>\n      <th>P6 STATE</th>\n      <th>P601 Status</th>\n      <th>P602 Status</th>\n      <th>P603 Status</th>\n    </tr>\n  </thead>\n  <tbody>\n    <tr>\n      <th>0</th>\n      <td>timestamp</td>\n      <td>NaN</td>\n      <td>NaN</td>\n      <td>value</td>\n      <td>value</td>\n      <td>value</td>\n      <td>value</td>\n      <td>value</td>\n      <td>value</td>\n      <td>value</td>\n      <td>...</td>\n      <td>value</td>\n      <td>value</td>\n      <td>value</td>\n      <td>value</td>\n      <td>value</td>\n      <td>value</td>\n      <td>value</td>\n      <td>value</td>\n      <td>value</td>\n      <td>value</td>\n    </tr>\n    <tr>\n      <th>1</th>\n      <td>2019-07-20T04:30:00Z</td>\n      <td>benign</td>\n      <td>0.0</td>\n      <td>0</td>\n      <td>729.8658</td>\n      <td>1</td>\n      <td>3</td>\n      <td>2</td>\n      <td>1</td>\n      <td>142.527557</td>\n      <td>...</td>\n      <td>{u'IsSystem': False, u'Name': u'Active', u'Val...</td>\n      <td>{u'IsSystem': False, u'Name': u'Active', u'Val...</td>\n      <td>{u'IsSystem': False, u'Name': u'Inactive', u'V...</td>\n      <td>{u'IsSystem': False, u'Name': u'Inactive', u'V...</td>\n      <td>{u'IsSystem': False, u'Name': u'Inactive', u'V...</td>\n      <td>{u'IsSystem': False, u'Name': u'Active', u'Val...</td>\n      <td>2</td>\n      <td>1</td>\n      <td>1</td>\n      <td>1</td>\n    </tr>\n    <tr>\n      <th>2</th>\n      <td>2019-07-20T04:30:01Z</td>\n      <td>benign</td>\n      <td>0.0</td>\n      <td>0</td>\n      <td>729.434</td>\n      <td>1</td>\n      <td>3</td>\n      <td>2</td>\n      <td>1</td>\n      <td>142.527557</td>\n      <td>...</td>\n      <td>{u'IsSystem': False, u'Name': u'Active', u'Val...</td>\n      <td>{u'IsSystem': False, u'Name': u'Active', u'Val...</td>\n      <td>{u'IsSystem': False, u'Name': u'Inactive', u'V...</td>\n      <td>{u'IsSystem': False, u'Name': u'Inactive', u'V...</td>\n      <td>{u'IsSystem': False, u'Name': u'Inactive', u'V...</td>\n      <td>{u'IsSystem': False, u'Name': u'Active', u'Val...</td>\n      <td>2</td>\n      <td>1</td>\n      <td>1</td>\n      <td>1</td>\n    </tr>\n    <tr>\n      <th>3</th>\n      <td>2019-07-20T04:30:02.004013Z</td>\n      <td>benign</td>\n      <td>0.0</td>\n      <td>0</td>\n      <td>729.12</td>\n      <td>1</td>\n      <td>3</td>\n      <td>2</td>\n      <td>1</td>\n      <td>142.527557</td>\n      <td>...</td>\n      <td>{u'IsSystem': False, u'Name': u'Active', u'Val...</td>\n      <td>{u'IsSystem': False, u'Name': u'Active', u'Val...</td>\n      <td>{u'IsSystem': False, u'Name': u'Inactive', u'V...</td>\n      <td>{u'IsSystem': False, u'Name': u'Inactive', u'V...</td>\n      <td>{u'IsSystem': False, u'Name': u'Inactive', u'V...</td>\n      <td>{u'IsSystem': False, u'Name': u'Active', u'Val...</td>\n      <td>2</td>\n      <td>1</td>\n      <td>1</td>\n      <td>1</td>\n    </tr>\n    <tr>\n      <th>4</th>\n      <td>2019-07-20T04:30:03.004013Z</td>\n      <td>benign</td>\n      <td>0.0</td>\n      <td>0</td>\n      <td>728.6882</td>\n      <td>1</td>\n      <td>3</td>\n      <td>2</td>\n      <td>1</td>\n      <td>142.527557</td>\n      <td>...</td>\n      <td>{u'IsSystem': False, u'Name': u'Active', u'Val...</td>\n      <td>{u'IsSystem': False, u'Name': u'Active', u'Val...</td>\n      <td>{u'IsSystem': False, u'Name': u'Inactive', u'V...</td>\n      <td>{u'IsSystem': False, u'Name': u'Inactive', u'V...</td>\n      <td>{u'IsSystem': False, u'Name': u'Inactive', u'V...</td>\n      <td>{u'IsSystem': False, u'Name': u'Active', u'Val...</td>\n      <td>2</td>\n      <td>1</td>\n      <td>1</td>\n      <td>1</td>\n    </tr>\n  </tbody>\n</table>\n<p>5 rows × 80 columns</p>\n</div>"
     },
     "execution_count": 25,
     "metadata": {},
     "output_type": "execute_result"
    }
   ],
   "source": [
    "df.head()"
   ],
   "metadata": {
    "collapsed": false,
    "ExecuteTime": {
     "end_time": "2023-11-16T10:32:14.985875175Z",
     "start_time": "2023-11-16T10:32:14.983053099Z"
    }
   },
   "id": "8f3c68decc902bc0"
  },
  {
   "cell_type": "code",
   "execution_count": 26,
   "outputs": [
    {
     "data": {
      "text/plain": "                        GMT +0  Attack  Label FIT 101   LIT 101 MV 101  \\\n1         2019-07-20T04:30:00Z  benign    0.0       0  729.8658      1   \n2         2019-07-20T04:30:01Z  benign    0.0       0   729.434      1   \n3  2019-07-20T04:30:02.004013Z  benign    0.0       0    729.12      1   \n4  2019-07-20T04:30:03.004013Z  benign    0.0       0  728.6882      1   \n5         2019-07-20T04:30:04Z  benign    0.0       0  727.7069      1   \n\n  P1_STATE P101 Status P102 Status     AIT 201  ...  \\\n1        3           2           1  142.527557  ...   \n2        3           2           1  142.527557  ...   \n3        3           2           1  142.527557  ...   \n4        3           2           1  142.527557  ...   \n5        3           2           1  142.527557  ...   \n\n                                             LSH 601  \\\n1  {u'IsSystem': False, u'Name': u'Active', u'Val...   \n2  {u'IsSystem': False, u'Name': u'Active', u'Val...   \n3  {u'IsSystem': False, u'Name': u'Active', u'Val...   \n4  {u'IsSystem': False, u'Name': u'Active', u'Val...   \n5  {u'IsSystem': False, u'Name': u'Active', u'Val...   \n\n                                             LSH 602  \\\n1  {u'IsSystem': False, u'Name': u'Active', u'Val...   \n2  {u'IsSystem': False, u'Name': u'Active', u'Val...   \n3  {u'IsSystem': False, u'Name': u'Active', u'Val...   \n4  {u'IsSystem': False, u'Name': u'Active', u'Val...   \n5  {u'IsSystem': False, u'Name': u'Active', u'Val...   \n\n                                             LSH 603  \\\n1  {u'IsSystem': False, u'Name': u'Inactive', u'V...   \n2  {u'IsSystem': False, u'Name': u'Inactive', u'V...   \n3  {u'IsSystem': False, u'Name': u'Inactive', u'V...   \n4  {u'IsSystem': False, u'Name': u'Inactive', u'V...   \n5  {u'IsSystem': False, u'Name': u'Inactive', u'V...   \n\n                                             LSL 601  \\\n1  {u'IsSystem': False, u'Name': u'Inactive', u'V...   \n2  {u'IsSystem': False, u'Name': u'Inactive', u'V...   \n3  {u'IsSystem': False, u'Name': u'Inactive', u'V...   \n4  {u'IsSystem': False, u'Name': u'Inactive', u'V...   \n5  {u'IsSystem': False, u'Name': u'Inactive', u'V...   \n\n                                             LSL 602  \\\n1  {u'IsSystem': False, u'Name': u'Inactive', u'V...   \n2  {u'IsSystem': False, u'Name': u'Inactive', u'V...   \n3  {u'IsSystem': False, u'Name': u'Inactive', u'V...   \n4  {u'IsSystem': False, u'Name': u'Inactive', u'V...   \n5  {u'IsSystem': False, u'Name': u'Inactive', u'V...   \n\n                                             LSL 603 P6 STATE P601 Status  \\\n1  {u'IsSystem': False, u'Name': u'Active', u'Val...        2           1   \n2  {u'IsSystem': False, u'Name': u'Active', u'Val...        2           1   \n3  {u'IsSystem': False, u'Name': u'Active', u'Val...        2           1   \n4  {u'IsSystem': False, u'Name': u'Active', u'Val...        2           1   \n5  {u'IsSystem': False, u'Name': u'Active', u'Val...        2           1   \n\n  P602 Status P603 Status  \n1           1           1  \n2           1           1  \n3           1           1  \n4           1           1  \n5           1           1  \n\n[5 rows x 80 columns]",
      "text/html": "<div>\n<style scoped>\n    .dataframe tbody tr th:only-of-type {\n        vertical-align: middle;\n    }\n\n    .dataframe tbody tr th {\n        vertical-align: top;\n    }\n\n    .dataframe thead th {\n        text-align: right;\n    }\n</style>\n<table border=\"1\" class=\"dataframe\">\n  <thead>\n    <tr style=\"text-align: right;\">\n      <th></th>\n      <th>GMT +0</th>\n      <th>Attack</th>\n      <th>Label</th>\n      <th>FIT 101</th>\n      <th>LIT 101</th>\n      <th>MV 101</th>\n      <th>P1_STATE</th>\n      <th>P101 Status</th>\n      <th>P102 Status</th>\n      <th>AIT 201</th>\n      <th>...</th>\n      <th>LSH 601</th>\n      <th>LSH 602</th>\n      <th>LSH 603</th>\n      <th>LSL 601</th>\n      <th>LSL 602</th>\n      <th>LSL 603</th>\n      <th>P6 STATE</th>\n      <th>P601 Status</th>\n      <th>P602 Status</th>\n      <th>P603 Status</th>\n    </tr>\n  </thead>\n  <tbody>\n    <tr>\n      <th>1</th>\n      <td>2019-07-20T04:30:00Z</td>\n      <td>benign</td>\n      <td>0.0</td>\n      <td>0</td>\n      <td>729.8658</td>\n      <td>1</td>\n      <td>3</td>\n      <td>2</td>\n      <td>1</td>\n      <td>142.527557</td>\n      <td>...</td>\n      <td>{u'IsSystem': False, u'Name': u'Active', u'Val...</td>\n      <td>{u'IsSystem': False, u'Name': u'Active', u'Val...</td>\n      <td>{u'IsSystem': False, u'Name': u'Inactive', u'V...</td>\n      <td>{u'IsSystem': False, u'Name': u'Inactive', u'V...</td>\n      <td>{u'IsSystem': False, u'Name': u'Inactive', u'V...</td>\n      <td>{u'IsSystem': False, u'Name': u'Active', u'Val...</td>\n      <td>2</td>\n      <td>1</td>\n      <td>1</td>\n      <td>1</td>\n    </tr>\n    <tr>\n      <th>2</th>\n      <td>2019-07-20T04:30:01Z</td>\n      <td>benign</td>\n      <td>0.0</td>\n      <td>0</td>\n      <td>729.434</td>\n      <td>1</td>\n      <td>3</td>\n      <td>2</td>\n      <td>1</td>\n      <td>142.527557</td>\n      <td>...</td>\n      <td>{u'IsSystem': False, u'Name': u'Active', u'Val...</td>\n      <td>{u'IsSystem': False, u'Name': u'Active', u'Val...</td>\n      <td>{u'IsSystem': False, u'Name': u'Inactive', u'V...</td>\n      <td>{u'IsSystem': False, u'Name': u'Inactive', u'V...</td>\n      <td>{u'IsSystem': False, u'Name': u'Inactive', u'V...</td>\n      <td>{u'IsSystem': False, u'Name': u'Active', u'Val...</td>\n      <td>2</td>\n      <td>1</td>\n      <td>1</td>\n      <td>1</td>\n    </tr>\n    <tr>\n      <th>3</th>\n      <td>2019-07-20T04:30:02.004013Z</td>\n      <td>benign</td>\n      <td>0.0</td>\n      <td>0</td>\n      <td>729.12</td>\n      <td>1</td>\n      <td>3</td>\n      <td>2</td>\n      <td>1</td>\n      <td>142.527557</td>\n      <td>...</td>\n      <td>{u'IsSystem': False, u'Name': u'Active', u'Val...</td>\n      <td>{u'IsSystem': False, u'Name': u'Active', u'Val...</td>\n      <td>{u'IsSystem': False, u'Name': u'Inactive', u'V...</td>\n      <td>{u'IsSystem': False, u'Name': u'Inactive', u'V...</td>\n      <td>{u'IsSystem': False, u'Name': u'Inactive', u'V...</td>\n      <td>{u'IsSystem': False, u'Name': u'Active', u'Val...</td>\n      <td>2</td>\n      <td>1</td>\n      <td>1</td>\n      <td>1</td>\n    </tr>\n    <tr>\n      <th>4</th>\n      <td>2019-07-20T04:30:03.004013Z</td>\n      <td>benign</td>\n      <td>0.0</td>\n      <td>0</td>\n      <td>728.6882</td>\n      <td>1</td>\n      <td>3</td>\n      <td>2</td>\n      <td>1</td>\n      <td>142.527557</td>\n      <td>...</td>\n      <td>{u'IsSystem': False, u'Name': u'Active', u'Val...</td>\n      <td>{u'IsSystem': False, u'Name': u'Active', u'Val...</td>\n      <td>{u'IsSystem': False, u'Name': u'Inactive', u'V...</td>\n      <td>{u'IsSystem': False, u'Name': u'Inactive', u'V...</td>\n      <td>{u'IsSystem': False, u'Name': u'Inactive', u'V...</td>\n      <td>{u'IsSystem': False, u'Name': u'Active', u'Val...</td>\n      <td>2</td>\n      <td>1</td>\n      <td>1</td>\n      <td>1</td>\n    </tr>\n    <tr>\n      <th>5</th>\n      <td>2019-07-20T04:30:04Z</td>\n      <td>benign</td>\n      <td>0.0</td>\n      <td>0</td>\n      <td>727.7069</td>\n      <td>1</td>\n      <td>3</td>\n      <td>2</td>\n      <td>1</td>\n      <td>142.527557</td>\n      <td>...</td>\n      <td>{u'IsSystem': False, u'Name': u'Active', u'Val...</td>\n      <td>{u'IsSystem': False, u'Name': u'Active', u'Val...</td>\n      <td>{u'IsSystem': False, u'Name': u'Inactive', u'V...</td>\n      <td>{u'IsSystem': False, u'Name': u'Inactive', u'V...</td>\n      <td>{u'IsSystem': False, u'Name': u'Inactive', u'V...</td>\n      <td>{u'IsSystem': False, u'Name': u'Active', u'Val...</td>\n      <td>2</td>\n      <td>1</td>\n      <td>1</td>\n      <td>1</td>\n    </tr>\n  </tbody>\n</table>\n<p>5 rows × 80 columns</p>\n</div>"
     },
     "execution_count": 26,
     "metadata": {},
     "output_type": "execute_result"
    }
   ],
   "source": [
    "# Remove the first line\n",
    "df = df.iloc[1:]\n",
    "df.head()"
   ],
   "metadata": {
    "collapsed": false,
    "ExecuteTime": {
     "end_time": "2023-11-16T10:35:53.688601476Z",
     "start_time": "2023-11-16T10:35:53.644322921Z"
    }
   },
   "id": "fed840b02a1d6a5c"
  },
  {
   "cell_type": "code",
   "execution_count": null,
   "outputs": [],
   "source": [],
   "metadata": {
    "collapsed": false
   },
   "id": "9e3c2d3d9f88c5fa"
  }
 ],
 "metadata": {
  "kernelspec": {
   "display_name": "Python 3",
   "language": "python",
   "name": "python3"
  },
  "language_info": {
   "codemirror_mode": {
    "name": "ipython",
    "version": 2
   },
   "file_extension": ".py",
   "mimetype": "text/x-python",
   "name": "python",
   "nbconvert_exporter": "python",
   "pygments_lexer": "ipython2",
   "version": "2.7.6"
  }
 },
 "nbformat": 4,
 "nbformat_minor": 5
}
